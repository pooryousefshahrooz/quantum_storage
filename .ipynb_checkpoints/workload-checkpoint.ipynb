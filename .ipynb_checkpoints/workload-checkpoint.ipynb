{
 "cells": [
  {
   "cell_type": "code",
   "execution_count": 44,
   "id": "b83dc735",
   "metadata": {},
   "outputs": [],
   "source": [
    "#from tmgen.models import uniform_tm,spike_tm,modulated_gravity_tm,random_gravity_tm,gravity_tm,exp_tm\n",
    "import csv\n",
    "import os\n",
    "import random"
   ]
  },
  {
   "cell_type": "code",
   "execution_count": null,
   "id": "1b4c5bfa",
   "metadata": {},
   "outputs": [],
   "source": [
    "class Work_load(object):\n",
    "    def __init__(self,user_pairs,file_result_path):\n",
    "        self.T = []\n",
    "        self.num_requests = 2\n",
    "        self.request_pairs = user_pairs\n",
    "        self.each_t_requests = {0:[(1,6),(2,5),(10,12)],1:[(1,6),(2,5),(10,12)],2:[(1,6),(2,5),(10,12)]}\n",
    "        self.each_t_real_requests = {1:[(1,6)],2:[(1,6)]}\n",
    "        self.time_intervals = 2\n",
    "        self.each_t_each_request_demand = {0:{(1,6):10,(2,5):0,(10,12):0},\n",
    "                                           1:{(1,6):1,(2,5):0,(10,12):0},2:{(1,6):10,(2,5):0,(10,12):0}}\n",
    "        self.each_request_threshold= {(1,6):{0:0.9,1:0.8,2:0.9},\n",
    "                                     (2,5):{0:0.3,1:0.3,2:0.3},\n",
    "                                     (10,12):{0:0.3,1:0.3,2:0.3}\n",
    "                                     }\n",
    "        self.each_user_request_fidelity_threshold = {(1,6):0.8,(2,10):0.9,(4,8):0.8,(6,11):0.9,\n",
    "                                                          (5,10):0.8,(3,9):0.9,(8,10):0.8,(0,3):0.9,(1,10):1.0,(2,5):0.9}\n",
    "        self.each_t_requests = {}\n",
    "        self.each_t_real_requests = {}\n",
    "        self.time_intervals = 2\n",
    "\n",
    "        self.each_request_threshold= {}\n",
    "        self.each_t_each_request_demand = {}\n",
    "        id_counter = 0\n",
    "        each_user_id = {}\n",
    "        for user_pair in user_pairs:\n",
    "            each_user_id[id_counter] = user_pair\n",
    "            id_counter+=1\n",
    "        up_flag = False\n",
    "        \n",
    "        for time in range(0,15):\n",
    "            each_pair_demand = {}\n",
    "            if time%2==0:\n",
    "                demand1 = demand = random.randint(2, 50)\n",
    "                demand2 = random.randint(2, 50)\n",
    "                \n",
    "            else:\n",
    "                demand1 = demand = random.randint(1, 3)\n",
    "                demand2 = random.randint(1, 3)\n",
    "            each_pair_demand[user_pairs[0]] = demand1\n",
    "            each_pair_demand[user_pairs[1]] = demand2\n",
    "            for request in user_pairs:\n",
    "                demand =each_pair_demand[request]\n",
    "                try:\n",
    "                    self.each_t_each_request_demand[time][request] = demand\n",
    "                except:\n",
    "                    self.each_t_each_request_demand[time] = {}\n",
    "                    self.each_t_each_request_demand[time][request] = demand\n",
    "                if time not in self.T:\n",
    "                    self.T.append(time)\n",
    "                try:\n",
    "                    if request not in self.each_t_requests[time]:\n",
    "                        self.each_t_requests[time].append(request)\n",
    "                except:\n",
    "                    self.each_t_requests[time] = [request]\n",
    "\n",
    "                if time >0:\n",
    "                    try:\n",
    "                        if self.each_t_real_requests[time]:\n",
    "                            pass\n",
    "                    except:\n",
    "                        self.each_t_real_requests[time] = user_pairs\n",
    "        for request in user_pairs:\n",
    "            try:\n",
    "                self.each_t_each_request_demand[0][request] = 0\n",
    "            except:\n",
    "                self.each_t_each_request_demand[0]={}\n",
    "                self.each_t_each_request_demand[0][request] = 0\n",
    "#         with open(file_result_path, \"r\") as f:\n",
    "#             reader = csv.reader(f, delimiter=\",\")\n",
    "#             for line in (reader):\n",
    "#                 time = int(line[0])\n",
    "#                 request  = int(line[1])\n",
    "#                 if time <15 and request <2:\n",
    "                    \n",
    "#                     request = each_user_id[request]\n",
    "#                     demand = float(line[2])\n",
    "                    \n",
    "#                     if up_flag:\n",
    "#                         demand = random.randint(2, 100)\n",
    "#                         up_flag = False\n",
    "#                     else:\n",
    "#                         demand = random.randint(1, 3)\n",
    "#                         up_flag  =True\n",
    "#                     #print(\"demand is \",demand)\n",
    "#                     try:\n",
    "#                         self.each_t_each_request_demand[time][request] = demand\n",
    "#                     except:\n",
    "#                         self.each_t_each_request_demand[time] = {}\n",
    "#                         self.each_t_each_request_demand[time][request] = demand\n",
    "#                     if time not in self.T:\n",
    "#                         self.T.append(time)\n",
    "#                     try:\n",
    "#                         if request not in self.each_t_requests[time]:\n",
    "#                             self.each_t_requests[time].append(request)\n",
    "#                     except:\n",
    "#                         self.each_t_requests[time] = [request]\n",
    "\n",
    "#                     if time >0:\n",
    "#                         try:\n",
    "#                             if self.each_t_real_requests[time]:\n",
    "#                                 pass\n",
    "#                         except:\n",
    "#                             self.each_t_real_requests[time] = user_pairs\n",
    "                \n",
    "    def check_demands_per_each_time(self,user_pairs):\n",
    "        for time in self.T:\n",
    "            for user_pair in user_pairs:\n",
    "                if self.each_t_each_request_demand[time][user_pair]==0:\n",
    "                    self.each_t_each_request_demand[time][user_pair] = 1.0\n",
    "            \n",
    "    def set_storage_pairs_as_user_pairs(self, storage_pairs):\n",
    "        for time in self.T:\n",
    "            for pair in storage_pairs:\n",
    "                try:\n",
    "                    self.each_t_requests[time].append(pair)\n",
    "                except:\n",
    "                    self.each_t_requests[time] =[pair]\n",
    "                try:\n",
    "                    self.each_t_each_request_demand[time][pair] = 0\n",
    "                except:\n",
    "                    self.each_t_each_request_demand[time] = {}\n",
    "                    self.each_t_each_request_demand[time][pair] = 0\n",
    "    def set_threshold_fidelity_for_request_pairs(self,user_pairs,storage_pairs):\n",
    "        for pair in user_pairs:\n",
    "            for time in self.T:\n",
    "                try:\n",
    "                    self.each_request_threshold[pair][time]= self.each_user_request_fidelity_threshold[pair]\n",
    "                except:\n",
    "                    self.each_request_threshold[pair] = {}\n",
    "                    self.each_request_threshold[pair][time] = self.each_user_request_fidelity_threshold[pair] \n",
    "        for pair in storage_pairs:\n",
    "            for time in self.T:\n",
    "                try:\n",
    "                    self.each_request_threshold[pair][time] = 0.1\n",
    "                except:\n",
    "                    self.each_request_threshold[pair]= {}\n",
    "                    self.each_request_threshold[pair][time] = 0.1\n",
    "    def get_each_request_threshold(self,k,t):\n",
    "        return self.each_request_threshold[k][t]\n",
    "    def generate_workload_circle(self,alpha,T,request_pairs):\n",
    "        new_t_request_demands = {}\n",
    "        for t,request_demand in self.each_t_each_request_demand.items():\n",
    "            new_t_request_demands[t] = {}\n",
    "            for req,d in request_demand.items():\n",
    "                new_t_request_demands[t][req] = d*alpha\n",
    "        for k,v in new_t_request_demands.items():\n",
    "            self.each_t_each_request_demand[k] = v\n",
    "    "
   ]
  },
  {
   "cell_type": "code",
   "execution_count": 2,
   "id": "547b7851",
   "metadata": {},
   "outputs": [
    {
     "name": "stdout",
     "output_type": "stream",
     "text": [
      "low\n",
      "high\n",
      "low\n",
      "high\n",
      "low\n",
      "high\n",
      "low\n",
      "high\n",
      "low\n",
      "high\n",
      "low\n",
      "high\n",
      "low\n",
      "high\n",
      "low\n"
     ]
    }
   ],
   "source": [
    "for time in range(0,15):\n",
    "    if time%2==0:\n",
    "        print(\"low\")\n",
    "    else:\n",
    "        print(\"high\")"
   ]
  },
  {
   "cell_type": "code",
   "execution_count": 46,
   "id": "0cc7dfbc",
   "metadata": {},
   "outputs": [
    {
     "name": "stdout",
     "output_type": "stream",
     "text": [
      "array([[[  0.        ,   0.        ],\n",
      "        [124.79526907,  48.25592225]],\n",
      "\n",
      "       [[  0.        ,   0.        ],\n",
      "        [  7.86837237, 102.94581759]]])\n",
      "for time 0 we have traffic [[  0.         124.79526907]\n",
      " [  0.           7.86837237]]\n",
      "demands [  0.         124.79526907]\n",
      "demand 0.0\n",
      "demand 124.79526906638732\n",
      "demands [0.         7.86837237]\n",
      "demand 0.0\n",
      "demand 7.868372370901666\n",
      "for time 1 we have traffic [[  0.          48.25592225]\n",
      " [  0.         102.94581759]]\n",
      "demands [ 0.         48.25592225]\n",
      "demand 0.0\n",
      "demand 48.25592224851935\n",
      "demands [  0.         102.94581759]\n",
      "demand 0.0\n",
      "demand 102.94581758912157\n",
      "done!\n"
     ]
    }
   ],
   "source": [
    "# def generate_demands(num_user_pairs, time_epochs):\n",
    "#     each_minute_average_demand = {}\n",
    "#     #for method in [\"uniform\",\"spike\",\"exponential\"]:\n",
    "#     for method in [\"spike\"]:\n",
    "#         each_minute_average_demand[method] = {}\n",
    "#         each_minute_demands = {}\n",
    "#         if method ==\"spike\":\n",
    "#             tm = spike_tm(num_user_pairs,2,100,time_epochs)\n",
    "#         elif method =='uniform':\n",
    "#             tm = uniform_tm(num_user_pairs,1,30,time_epochs)\n",
    "#         elif method ==\"modulated_gravity\":\n",
    "#             tm = modulated_gravity_tm(num_user_pairs,time_epochs,100)\n",
    "#         elif method == \"random_gravity\":\n",
    "#             tm = random_gravity_tm(num_user_pairs,20,time_epochs)\n",
    "#         elif method == \"gravity\":\n",
    "#             tm = 1\n",
    "#         elif method == \"exponential\":\n",
    "#             tm = exp_tm(num_user_pairs,10,time_epochs)\n",
    "#         print(tm)\n",
    "#         for time in range(time_epochs):\n",
    "#             traffic = tm.at_time(time)\n",
    "#             print('for time %s we have traffic %s'%(time,traffic))\n",
    "#             for demands in traffic:\n",
    "#                 print('demands',demands)\n",
    "#                 sum_demands= 0\n",
    "#                 user_pair_indx = 0\n",
    "#                 for demand in demands:\n",
    "#                     print('demand',demand)\n",
    "# #                     if not os.path.exists(time_demands_file):\n",
    "# #                         os.mknod(time_demands_file)\n",
    "#                     with open(time_demands_file, 'a') as newFile:                                \n",
    "#                         newFileWriter = csv.writer(newFile)\n",
    "#                         newFileWriter.writerow([user_pair_indx,time,demand]) \n",
    "#                     user_pair_indx+=1\n",
    "\n",
    "#     return each_minute_average_demand\n",
    "# time_demands_file = 'time_demands_file.csv'\n",
    "# generate_demands(2,2)\n",
    "# print(\"done!\")"
   ]
  },
  {
   "cell_type": "code",
   "execution_count": 29,
   "id": "dceb6bd7",
   "metadata": {},
   "outputs": [
    {
     "name": "stdout",
     "output_type": "stream",
     "text": [
      "array([[[112.16553528,  73.67757718],\n",
      "        [  0.        ,  36.42512856],\n",
      "        [  0.        ,   0.        ]],\n",
      "\n",
      "       [[  0.        ,   0.        ],\n",
      "        [  0.        ,   0.        ],\n",
      "        [  0.        ,   0.        ]],\n",
      "\n",
      "       [[  0.        ,   0.        ],\n",
      "        [  0.        ,   0.        ],\n",
      "        [237.98744532,   0.        ]]])\n"
     ]
    }
   ],
   "source": [
    "# tm = spike_tm(3,2,100,2)\n",
    "# print(tm)"
   ]
  },
  {
   "cell_type": "code",
   "execution_count": 47,
   "id": "0f90eb0a",
   "metadata": {},
   "outputs": [],
   "source": [
    "# #for time in [0,1]:\n",
    "#     #traffic_time = tm.at_time(time) \n",
    "#     #print(traffic_time)\n",
    "# time_demands_file = 'time_demands_file.csv'\n",
    "# each_pair_src_dst = {(0,0):0,(0,1):1,(0,2):2,(0,3):3,(0,4):4,(0,5):5}\n",
    "# pairs = [(0,0),(0,1),(0,2),(0,3),(0,4),(0,5)]\n",
    "# tm = spike_tm(6,3,100,120)\n",
    "# for pair in pairs:\n",
    "#     traffic_over_times = tm.between(pair[0],pair[1],'all')\n",
    "#     for time in range(120):\n",
    "#         #print(\"at time %s from %s we have %s\"%(time, each_pair_src_dst[pair],traffic_over_times[time]))\n",
    "#         with open(time_demands_file, 'a') as newFile:                                \n",
    "#             newFileWriter = csv.writer(newFile)\n",
    "#             newFileWriter.writerow([time,each_pair_src_dst[pair],traffic_over_times[time]])"
   ]
  },
  {
   "cell_type": "code",
   "execution_count": 2,
   "id": "15a82869",
   "metadata": {},
   "outputs": [
    {
     "name": "stdout",
     "output_type": "stream",
     "text": [
      "array([[[298.76422999],\n",
      "        [257.95986755],\n",
      "        [297.04173533]],\n",
      "\n",
      "       [[118.70275466],\n",
      "        [139.04918945],\n",
      "        [118.1768061 ]],\n",
      "\n",
      "       [[191.01964163],\n",
      "        [118.31945658],\n",
      "        [144.99216867]]])\n"
     ]
    }
   ],
   "source": [
    "# from tmgen.models import uniform_tm\n",
    "# tm = uniform_tm(3, 100, 300)\n",
    "# print(tm) "
   ]
  },
  {
   "cell_type": "code",
   "execution_count": 27,
   "id": "1a83a13e",
   "metadata": {},
   "outputs": [],
   "source": [
    "# from tmgen.models import exp_tm\n",
    "# tm = exp_tm(3, 500, 2)"
   ]
  },
  {
   "cell_type": "code",
   "execution_count": 8,
   "id": "77a0bf9d",
   "metadata": {},
   "outputs": [
    {
     "data": {
      "text/plain": [
       "array([[[ 128.17276296,  261.69153337],\n",
       "        [ 567.69607563,  880.25390735],\n",
       "        [ 197.52392   , 2118.64072018]],\n",
       "\n",
       "       [[ 605.51293307,  296.13295978],\n",
       "        [  84.87232378,  313.16464473],\n",
       "        [ 383.65578457,  352.90265855]],\n",
       "\n",
       "       [[  42.30300294,  131.67190166],\n",
       "        [  60.87739771,  641.48401377],\n",
       "        [ 225.44827298,  494.79080599]]])"
      ]
     },
     "execution_count": 8,
     "metadata": {},
     "output_type": "execute_result"
    }
   ],
   "source": [
    "# tm.matrix"
   ]
  },
  {
   "cell_type": "code",
   "execution_count": 10,
   "id": "ee01da4a",
   "metadata": {},
   "outputs": [
    {
     "data": {
      "text/plain": [
       "array([[128.17276296, 567.69607563, 197.52392   ],\n",
       "       [605.51293307,  84.87232378, 383.65578457],\n",
       "       [ 42.30300294,  60.87739771, 225.44827298]])"
      ]
     },
     "execution_count": 10,
     "metadata": {},
     "output_type": "execute_result"
    }
   ],
   "source": [
    "# tm.at_time(0) "
   ]
  },
  {
   "cell_type": "code",
   "execution_count": 11,
   "id": "65f0a92d",
   "metadata": {},
   "outputs": [
    {
     "data": {
      "text/plain": [
       "array([ 197.52392   , 2118.64072018])"
      ]
     },
     "execution_count": 11,
     "metadata": {},
     "output_type": "execute_result"
    }
   ],
   "source": [
    "# tm.between(0,2,'all') "
   ]
  },
  {
   "cell_type": "code",
   "execution_count": 12,
   "id": "a6f0bf33",
   "metadata": {},
   "outputs": [
    {
     "data": {
      "text/plain": [
       "2118.640720179122"
      ]
     },
     "execution_count": 12,
     "metadata": {},
     "output_type": "execute_result"
    }
   ],
   "source": [
    "# tm.between(0,2,'max')"
   ]
  },
  {
   "cell_type": "code",
   "execution_count": null,
   "id": "38072fca",
   "metadata": {},
   "outputs": [],
   "source": []
  }
 ],
 "metadata": {
  "kernelspec": {
   "display_name": "Python 3 (ipykernel)",
   "language": "python",
   "name": "python3"
  },
  "language_info": {
   "codemirror_mode": {
    "name": "ipython",
    "version": 3
   },
   "file_extension": ".py",
   "mimetype": "text/x-python",
   "name": "python",
   "nbconvert_exporter": "python",
   "pygments_lexer": "ipython3",
   "version": "3.7.3"
  }
 },
 "nbformat": 4,
 "nbformat_minor": 5
}
