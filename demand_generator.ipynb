{
 "cells": [
  {
   "cell_type": "code",
   "execution_count": 3,
   "id": "6f596fd3",
   "metadata": {},
   "outputs": [],
   "source": [
    "from tmgen.models import uniform_tm,spike_tm,modulated_gravity_tm,random_gravity_tm,gravity_tm,exp_tm\n",
    "import csv\n",
    "import os"
   ]
  },
  {
   "cell_type": "code",
   "execution_count": 17,
   "id": "71734e14",
   "metadata": {},
   "outputs": [
    {
     "name": "stdout",
     "output_type": "stream",
     "text": [
      "array([[[  0.        ,   0.        ],\n",
      "        [  0.        ,   0.        ]],\n",
      "\n",
      "       [[103.31964817, 125.21686228],\n",
      "        [ 27.10836672,  71.65872841]]])\n",
      "for time 0 we have traffic [[  0.           0.        ]\n",
      " [103.31964817  27.10836672]]\n",
      "demands [0. 0.]\n",
      "demand 0.0\n",
      "demand 0.0\n",
      "demands [103.31964817  27.10836672]\n",
      "demand 103.31964817414325\n",
      "demand 27.10836671718331\n",
      "for time 1 we have traffic [[  0.           0.        ]\n",
      " [125.21686228  71.65872841]]\n",
      "demands [0. 0.]\n",
      "demand 0.0\n",
      "demand 0.0\n",
      "demands [125.21686228  71.65872841]\n",
      "demand 125.21686227513197\n",
      "demand 71.65872840860831\n",
      "done!\n"
     ]
    }
   ],
   "source": [
    "def generate_demands(num_user_pairs, time_epochs):\n",
    "    each_minute_average_demand = {}\n",
    "    #for method in [\"uniform\",\"spike\",\"exponential\"]:\n",
    "    for method in [\"spike\"]:\n",
    "        each_minute_average_demand[method] = {}\n",
    "        each_minute_demands = {}\n",
    "        if method ==\"spike\":\n",
    "            tm = spike_tm(num_user_pairs,2,100,time_epochs)\n",
    "        elif method =='uniform':\n",
    "            tm = uniform_tm(num_user_pairs,1,30,time_epochs)\n",
    "        elif method ==\"modulated_gravity\":\n",
    "            tm = modulated_gravity_tm(num_user_pairs,time_epochs,100)\n",
    "        elif method == \"random_gravity\":\n",
    "            tm = random_gravity_tm(num_user_pairs,20,time_epochs)\n",
    "        elif method == \"gravity\":\n",
    "            tm = 1\n",
    "        elif method == \"exponential\":\n",
    "            tm = exp_tm(num_user_pairs,10,time_epochs)\n",
    "        print(tm)\n",
    "        for time in range(time_epochs):\n",
    "            traffic = tm.at_time(time)\n",
    "            print('for time %s we have traffic %s'%(time,traffic))\n",
    "            for demands in traffic:\n",
    "                print('demands',demands)\n",
    "                sum_demands= 0\n",
    "                user_pair_indx = 0\n",
    "                for demand in demands:\n",
    "                    print('demand',demand)\n",
    "#                     if not os.path.exists(time_demands_file):\n",
    "#                         os.mknod(time_demands_file)\n",
    "                    with open(time_demands_file, 'a') as newFile:                                \n",
    "                        newFileWriter = csv.writer(newFile)\n",
    "                        newFileWriter.writerow([user_pair_indx,time,demand]) \n",
    "                    user_pair_indx+=1\n",
    "\n",
    "    return each_minute_average_demand\n",
    "time_demands_file = 'time_demands_file.csv'\n",
    "generate_demands(2,2)\n",
    "print(\"done!\")"
   ]
  },
  {
   "cell_type": "code",
   "execution_count": 15,
   "id": "148174df",
   "metadata": {},
   "outputs": [
    {
     "name": "stdout",
     "output_type": "stream",
     "text": [
      "array([[[297.17829443],\n",
      "        [109.29763652],\n",
      "        [231.07714331]],\n",
      "\n",
      "       [[151.00340757],\n",
      "        [150.41300952],\n",
      "        [289.35916323]],\n",
      "\n",
      "       [[103.96052709],\n",
      "        [145.16439725],\n",
      "        [259.96382942]]])\n"
     ]
    }
   ],
   "source": [
    "tm = uniform_tm(3, 100, 300)\n",
    "print(tm)"
   ]
  },
  {
   "cell_type": "code",
   "execution_count": null,
   "id": "5a8513b8",
   "metadata": {},
   "outputs": [],
   "source": [
    "schemes_in_order = [\"uniform\",\"spike\",\"exponential\"]\n",
    "time_numbers = []\n",
    "for i in range(0,60):\n",
    "    time_numbers.append(i)\n",
    "ploting_simple_y_as_x('Time (e.g., minute)','Summation of demands',schemes_in_order,\n",
    "                      each_scheme_each_time_demands,time_numbers,time_numbers,\n",
    "                      False,'plots/demands.pdf')"
   ]
  }
 ],
 "metadata": {
  "kernelspec": {
   "display_name": "Python 3 (ipykernel)",
   "language": "python",
   "name": "python3"
  },
  "language_info": {
   "codemirror_mode": {
    "name": "ipython",
    "version": 3
   },
   "file_extension": ".py",
   "mimetype": "text/x-python",
   "name": "python",
   "nbconvert_exporter": "python",
   "pygments_lexer": "ipython3",
   "version": "3.7.3"
  }
 },
 "nbformat": 4,
 "nbformat_minor": 5
}
