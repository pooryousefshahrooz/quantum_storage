{
 "cells": [
  {
   "cell_type": "code",
   "execution_count": null,
   "metadata": {},
   "outputs": [],
   "source": [
    "import random\n",
    "import docplex.mp.model as cpx"
   ]
  },
  {
   "cell_type": "code",
   "execution_count": null,
   "metadata": {},
   "outputs": [],
   "source": [
    "def get_max_edge_capacity():\n",
    "    return 12\n",
    "def check_path_include_edge(edge,path):\n",
    "    if edge in Paths[path]:\n",
    "        return 1\n",
    "    elif edge not  in Paths[path]:\n",
    "        return 0\n",
    "def check_request_has_path(k,p):\n",
    "    if p in P[k]:\n",
    "        return 1\n",
    "    elif p not in P[k]:\n",
    "        return 0\n",
    "def get_f_value(p,n_variable):\n",
    "    if n_variable == 4:\n",
    "        return 0.9\n",
    "    return 0.8\n",
    "    "
   ]
  },
  {
   "cell_type": "code",
   "execution_count": null,
   "metadata": {},
   "outputs": [],
   "source": [
    "\"\"\"input parameters\"\"\"\n",
    "\n",
    "T = [0,1]\n",
    "\"\"\"request pairs at each t\"\"\"\n",
    "K = [0,1] #0 ==(1,5), 1 == (2,4)\n",
    "\n",
    "\n",
    "\"\"\"demand for each t\"\"\"\n",
    "D = {0:{0 : 4},1:{0:6}}\n",
    "\n",
    "\"\"\"summation of demands at each t\"\"\"\n",
    "D_values = {0:4,1:6}\n",
    "\n",
    "K_values = {0:1,1:1}\n",
    "\n",
    "\"\"\"capacity of each edge\"\"\"\n",
    "C = {0:8,1:9,2:6,3:12}\n",
    "\n",
    "\n",
    "\"\"\"set of edges\"\"\"\n",
    "set_E = [0,1,2,3]\n",
    "\n",
    "\"\"\"set of paths\"\"\"\n",
    "Paths= {0:[0,1,2,3],1:[1,2]}\n",
    "\n",
    "# the lenght of each path\n",
    "Paths_L = {0:4,1:3}\n",
    "\n",
    "\"\"\"set of paths for each request pair\"\"\"\n",
    "P = {0:[0],1:[1]}\n",
    "\n",
    "\"\"\"the fixed purification values\"\"\"\n",
    "N= {1:{1:0.8,2:.84,3:0.86,4:.88,5:.89,6:.9},\n",
    "    2:{1:0.8,2:.84,3:0.86,4:.88,5:.89,6:.9},\n",
    "    3:{1:0.8,2:.84,3:0.86,4:.88,5:.89,6:.9},\n",
    "    4:{1:0.8,2:.84,3:0.86,4:.88,5:.89,6:.9}}"
   ]
  },
  {
   "cell_type": "code",
   "execution_count": null,
   "metadata": {},
   "outputs": [],
   "source": [
    "\"\"\"implement our OR model. When we want to code an optimization model,\n",
    "we put a placeholder for that model (like a blank canvas), \n",
    "then add its elements (decision variables and constraints) to it.\"\"\"\n",
    "\n",
    "opt_model = cpx.Model(name=\"Storage problem model\")"
   ]
  },
  {
   "cell_type": "code",
   "execution_count": null,
   "metadata": {},
   "outputs": [],
   "source": []
  },
  {
   "cell_type": "code",
   "execution_count": null,
   "metadata": {},
   "outputs": [],
   "source": []
  },
  {
   "cell_type": "code",
   "execution_count": null,
   "metadata": {},
   "outputs": [],
   "source": [
    "\"\"\"defining our decicion variables (that are integer)\n",
    "store decision variables in Python dictionaries \n",
    "where dictionary keys are decision variables, and values are decision variable objects.\n",
    "A decision variable is defined with three main properties: \n",
    "its type (continuous, binary or integer), \n",
    "its lower bound (0 by default), and \n",
    "its upper bound (infinity by default)\"\"\"\n",
    "\n",
    "w_vars  = {(t,k,p): opt_model.integer_var(lb=0, ub= 12,\n",
    "                              name=\"w_{0}_{1}_{2}\".format(t,k,p)) for t in T for k in K for p in P}\n",
    "\n",
    "n_vars  = {(t,k,p): opt_model.integer_var(lb=1, ub= 21,\n",
    "                                          name=\"n_{0}_{1}_{2}\".format(t,k,p)) for t in T for k in K for p in P}\n"
   ]
  },
  {
   "cell_type": "code",
   "execution_count": null,
   "metadata": {},
   "outputs": [],
   "source": [
    "\n",
    "    "
   ]
  },
  {
   "cell_type": "code",
   "execution_count": null,
   "metadata": {},
   "outputs": [],
   "source": []
  },
  {
   "cell_type": "code",
   "execution_count": null,
   "metadata": {},
   "outputs": [],
   "source": [
    "\"\"\"set constraints. \n",
    "Any constraint has three parts: a left-hand side (normally a linear combination of decision variables),\n",
    "a right-hand side (usually a numeric value), and\n",
    "a sense (Less than or equal, Equal, or Greater than or equal).\n",
    "To set up any constraints, we need to set each part:\"\"\"\n",
    "\n",
    "for t in T:\n",
    "    for e in set_E:\n",
    "        opt_model.add_constraint(opt_model.sum(w_vars[t,k,p] * check_path_include_edge(e,p) * n_vars[t,k,p] for k in K for p in P) <= C[e])\n",
    "\n",
    "for t in T:\n",
    "    for k in K:\n",
    "        opt_model.add_constraint(opt_model.sum(w_vars[t,k,p] * check_request_has_path(k,p) for p in P) <= D_values[t])\n",
    "\n"
   ]
  },
  {
   "cell_type": "code",
   "execution_count": null,
   "metadata": {},
   "outputs": [],
   "source": [
    "\"\"\"defining an objective, which is a linear expression\"\"\"\n",
    "\n",
    "objective = opt_model.sum((w_vars[t,k,p]* (0.8 + (n_vars[t,k,p]-1)*0.01) for t in T for k in K for p in P))\n",
    "\n",
    "# for maximization\n",
    "opt_model.maximize(objective)\n",
    "\n",
    "\n",
    "print('done')"
   ]
  },
  {
   "cell_type": "code",
   "execution_count": null,
   "metadata": {},
   "outputs": [],
   "source": []
  },
  {
   "cell_type": "code",
   "execution_count": null,
   "metadata": {},
   "outputs": [],
   "source": [
    "\"\"\"we call the solver to solve our optimization model.\"\"\"\n",
    "# solving with local cplex\n",
    "opt_model.solve()\n",
    "\n",
    "# solving with cplex cloud\n",
    "# opt_model.solve(url=\"your_cplex_cloud_url\", key=\"your_api_key\")"
   ]
  },
  {
   "cell_type": "code",
   "execution_count": null,
   "metadata": {},
   "outputs": [],
   "source": []
  },
  {
   "cell_type": "code",
   "execution_count": null,
   "metadata": {},
   "outputs": [],
   "source": [
    "\"\"\"get results and post-process them\n",
    "If the problem is solved to optimality, we can get and process results as follows:\n",
    "\"\"\"\n",
    "import pandas as pd\n",
    "opt_df = pd.DataFrame.from_dict(w_vars, orient=\"index\", \n",
    "                                columns = [\"variable_object\"])\n",
    "opt_df.index =  pd.MultiIndex.from_tuples(opt_df.index, \n",
    "                               names=[\"column_t\", \"column_k\",\"column_p\"])\n",
    "opt_df.reset_index(inplace=True)\n",
    "\n",
    "opt_df[\"solution_value\"] =  opt_df[\"variable_object\"].apply(lambda item: item.solution_value)\n",
    "    \n",
    "opt_df.drop(columns=[\"variable_object\"], inplace=True)\n",
    "opt_df.to_csv(\"./optimization_solution.csv\")"
   ]
  },
  {
   "cell_type": "code",
   "execution_count": null,
   "metadata": {},
   "outputs": [],
   "source": [
    "import pandas as pd\n",
    "opt_df = pd.DataFrame.from_dict(n_vars, orient=\"index\", \n",
    "                                columns = [\"variable_object\"])\n",
    "opt_df.index =  pd.MultiIndex.from_tuples(opt_df.index, \n",
    "                               names=[\"column_t\", \"column_k\",\"column_p\"])\n",
    "opt_df.reset_index(inplace=True)\n",
    "\n",
    "opt_df[\"solution_value\"] =  opt_df[\"variable_object\"].apply(lambda item: item.solution_value)\n",
    "    \n",
    "opt_df.drop(columns=[\"variable_object\"], inplace=True)\n",
    "opt_df.to_csv(\"./optimization_solution_n_vars.csv\")"
   ]
  },
  {
   "cell_type": "code",
   "execution_count": null,
   "metadata": {},
   "outputs": [],
   "source": []
  }
 ],
 "metadata": {
  "kernelspec": {
   "display_name": "Python 3",
   "language": "python",
   "name": "python3"
  },
  "language_info": {
   "codemirror_mode": {
    "name": "ipython",
    "version": 3
   },
   "file_extension": ".py",
   "mimetype": "text/x-python",
   "name": "python",
   "nbconvert_exporter": "python",
   "pygments_lexer": "ipython3",
   "version": "3.7.3"
  }
 },
 "nbformat": 4,
 "nbformat_minor": 2
}
